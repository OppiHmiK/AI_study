{
 "cells": [
  {
   "cell_type": "code",
   "execution_count": 57,
   "metadata": {
    "collapsed": true
   },
   "outputs": [],
   "source": [
    "from keras.preprocessing.image import img_to_array, load_img, save_img\n",
    "from keras.applications import vgg19\n",
    "import numpy as np\n",
    "\n",
    "from keras import backend as K\n",
    "from scipy.optimize import fmin_l_bfgs_b\n",
    "import time\n",
    "import os"
   ]
  },
  {
   "cell_type": "code",
   "execution_count": 58,
   "metadata": {},
   "outputs": [
    {
     "ename": "FileNotFoundError",
     "evalue": "[Errno 2] No such file or directory: './Artificial-Intelligence/AI_reboot/Keras/3minute_keras/Datas/CNN/style_transfer/target/seoul.JPG'",
     "traceback": [
      "\u001b[1;31m---------------------------------------------------------------------------\u001b[0m",
      "\u001b[1;31mFileNotFoundError\u001b[0m                         Traceback (most recent call last)",
      "\u001b[1;32m<ipython-input-58-62a57fac50af>\u001b[0m in \u001b[0;36m<module>\u001b[1;34m\u001b[0m\n\u001b[0;32m      3\u001b[0m \u001b[1;33m\u001b[0m\u001b[0m\n\u001b[0;32m      4\u001b[0m \u001b[1;33m\u001b[0m\u001b[0m\n\u001b[1;32m----> 5\u001b[1;33m \u001b[0mwidth\u001b[0m\u001b[1;33m,\u001b[0m \u001b[0mheight\u001b[0m \u001b[1;33m=\u001b[0m \u001b[0mload_img\u001b[0m\u001b[1;33m(\u001b[0m\u001b[0mtar_image_path\u001b[0m\u001b[1;33m)\u001b[0m\u001b[1;33m.\u001b[0m\u001b[0msize\u001b[0m\u001b[1;33m\u001b[0m\u001b[1;33m\u001b[0m\u001b[0m\n\u001b[0m\u001b[0;32m      6\u001b[0m \u001b[0mimg_height\u001b[0m \u001b[1;33m=\u001b[0m \u001b[1;36m400\u001b[0m\u001b[1;33m\u001b[0m\u001b[1;33m\u001b[0m\u001b[0m\n\u001b[0;32m      7\u001b[0m \u001b[0mimg_width\u001b[0m \u001b[1;33m=\u001b[0m \u001b[0mint\u001b[0m\u001b[1;33m(\u001b[0m\u001b[0mwidth\u001b[0m \u001b[1;33m*\u001b[0m \u001b[0mimg_height\u001b[0m \u001b[1;33m/\u001b[0m \u001b[0mheight\u001b[0m\u001b[1;33m)\u001b[0m\u001b[1;33m\u001b[0m\u001b[1;33m\u001b[0m\u001b[0m\n",
      "\u001b[1;32md:\\coding\\anaconda\\envs\\ai\\lib\\site-packages\\keras_preprocessing\\image\\utils.py\u001b[0m in \u001b[0;36mload_img\u001b[1;34m(path, grayscale, color_mode, target_size, interpolation)\u001b[0m\n\u001b[0;32m    108\u001b[0m         raise ImportError('Could not import PIL.Image. '\n\u001b[0;32m    109\u001b[0m                           'The use of `load_img` requires PIL.')\n\u001b[1;32m--> 110\u001b[1;33m     \u001b[0mimg\u001b[0m \u001b[1;33m=\u001b[0m \u001b[0mpil_image\u001b[0m\u001b[1;33m.\u001b[0m\u001b[0mopen\u001b[0m\u001b[1;33m(\u001b[0m\u001b[0mpath\u001b[0m\u001b[1;33m)\u001b[0m\u001b[1;33m\u001b[0m\u001b[1;33m\u001b[0m\u001b[0m\n\u001b[0m\u001b[0;32m    111\u001b[0m     \u001b[1;32mif\u001b[0m \u001b[0mcolor_mode\u001b[0m \u001b[1;33m==\u001b[0m \u001b[1;34m'grayscale'\u001b[0m\u001b[1;33m:\u001b[0m\u001b[1;33m\u001b[0m\u001b[1;33m\u001b[0m\u001b[0m\n\u001b[0;32m    112\u001b[0m         \u001b[1;32mif\u001b[0m \u001b[0mimg\u001b[0m\u001b[1;33m.\u001b[0m\u001b[0mmode\u001b[0m \u001b[1;33m!=\u001b[0m \u001b[1;34m'L'\u001b[0m\u001b[1;33m:\u001b[0m\u001b[1;33m\u001b[0m\u001b[1;33m\u001b[0m\u001b[0m\n",
      "\u001b[1;32md:\\coding\\anaconda\\envs\\ai\\lib\\site-packages\\PIL\\Image.py\u001b[0m in \u001b[0;36mopen\u001b[1;34m(fp, mode)\u001b[0m\n\u001b[0;32m   2768\u001b[0m \u001b[1;33m\u001b[0m\u001b[0m\n\u001b[0;32m   2769\u001b[0m     \u001b[1;32mif\u001b[0m \u001b[0mfilename\u001b[0m\u001b[1;33m:\u001b[0m\u001b[1;33m\u001b[0m\u001b[1;33m\u001b[0m\u001b[0m\n\u001b[1;32m-> 2770\u001b[1;33m         \u001b[0mfp\u001b[0m \u001b[1;33m=\u001b[0m \u001b[0mbuiltins\u001b[0m\u001b[1;33m.\u001b[0m\u001b[0mopen\u001b[0m\u001b[1;33m(\u001b[0m\u001b[0mfilename\u001b[0m\u001b[1;33m,\u001b[0m \u001b[1;34m\"rb\"\u001b[0m\u001b[1;33m)\u001b[0m\u001b[1;33m\u001b[0m\u001b[1;33m\u001b[0m\u001b[0m\n\u001b[0m\u001b[0;32m   2771\u001b[0m         \u001b[0mexclusive_fp\u001b[0m \u001b[1;33m=\u001b[0m \u001b[1;32mTrue\u001b[0m\u001b[1;33m\u001b[0m\u001b[1;33m\u001b[0m\u001b[0m\n\u001b[0;32m   2772\u001b[0m \u001b[1;33m\u001b[0m\u001b[0m\n",
      "\u001b[1;31mFileNotFoundError\u001b[0m: [Errno 2] No such file or directory: './Artificial-Intelligence/AI_reboot/Keras/3minute_keras/Datas/CNN/style_transfer/target/seoul.JPG'"
     ],
     "output_type": "error"
    }
   ],
   "source": [
    "tar_image_path = './Artificial-Intelligence/AI_reboot/Keras/3minute_keras/Datas/CNN/style_transfer/target/seoul.JPG'\n",
    "style_image_path = './Artificial-Intelligence/AI_reboot/Keras/3minute_keras/Datas/CNN/style_transfer/style/starry_night.jpg'\n",
    "\n",
    "\n",
    "width, height = load_img(tar_image_path).size\n",
    "img_height = 400\n",
    "img_width = int(width * img_height / height)"
   ]
  },
  {
   "cell_type": "code",
   "execution_count": 28,
   "metadata": {},
   "outputs": [],
   "source": [
    "def preprocessing(img_path):\n",
    "    img = load_img(img_path, target_size=(img_height, \n",
    "                                          img_width))\n",
    "    img = img_to_array(img)\n",
    "    img = np.expand_dims(img, axis = 0)\n",
    "    img = vgg19.preprocess_input(img)    \n",
    "    return img"
   ]
  },
  {
   "cell_type": "code",
   "execution_count": 29,
   "metadata": {},
   "outputs": [],
   "source": [
    "def deprocessing(image):\n",
    "    # NOTE : imagenet의 평균 픽셀 값을 더해 preprocess_input에서 일어나는 변환 복원\n",
    "    image[:, :, 0] += 103.939\n",
    "    image[:, :, 1] += 116.779\n",
    "    image[:, :, 2] += 123.68\n",
    "    \n",
    "    # NOTE : 이미지 채널을 BGR에서 RGB로 변환\n",
    "    image = image[:, :, ::-1]\n",
    "    image = np.clip(image, 0, 255).astype('uint8')\n",
    "    return image"
   ]
  },
  {
   "cell_type": "code",
   "execution_count": 30,
   "metadata": {},
   "outputs": [
    {
     "name": "stdout",
     "output_type": "stream",
     "text": [
      "model load complete\n"
     ]
    }
   ],
   "source": [
    "# NOTE : 사전훈련된 VGG19 네트워크 로딩, 3개 이미지에 적용\n",
    "target_image = K.constant(preprocessing(tar_image_path))\n",
    "style_image = K.constant(preprocessing(style_image_path))\n",
    "\n",
    "# NOTE : 생성이미지가 담길 플레이스홀더\n",
    "comb_image = K.placeholder((1, img_height, img_width, 3))\n",
    "\n",
    "# NOTE : 스타일이미지, 타깃이미지, 생성이미지를 하나의 배치로 합침.\n",
    "input_tensor = K.concatenate([target_image, style_image, comb_image], axis = 0)\n",
    "model = vgg19.VGG19(input_tensor=input_tensor, weights = 'imagenet', include_top=False)\n",
    "print('model load complete')"
   ]
  },
  {
   "cell_type": "code",
   "execution_count": 31,
   "metadata": {},
   "outputs": [],
   "source": [
    "# NOTE : 컨텐츠 손실\n",
    "def content_loss(base, comb):\n",
    "    return K.sum(K.square(comb - base))\n",
    "\n",
    "# NOTE : 스타일 손실\n",
    "def gram_matrix(img):\n",
    "    feat = K.batch_flatten(K.permute_dimensions(img, (2, 0, 1)))\n",
    "    gram = K.dot(feat, K.transpose(feat))\n",
    "    return gram\n",
    "\n",
    "def style_loss(style, comb):\n",
    "    S = gram_matrix(style)\n",
    "    C = gram_matrix(comb)\n",
    "    channels = 3\n",
    "    \n",
    "    size = img_height*img_width\n",
    "    return K.sum(K.square(S-C))/(4.*(channels**2) * (size**2))\n",
    "\n",
    "# NOTE : 총 변위 손실\n",
    "def total_variation_loss(img):\n",
    "    \n",
    "    a = K.square(img[:, :img_height - 1, :img_width - 1, :] - img[:, 1:, :img_width - 1, :])\n",
    "    b = K.square(img[:, :img_height - 1, :img_width - 1, :] - img[:, :img_height - 1, 1:, :])\n",
    "    return K.sum(K.pow(a+b, 1.25))"
   ]
  },
  {
   "cell_type": "code",
   "execution_count": 32,
   "metadata": {},
   "outputs": [],
   "source": [
    "# NOTE : 층 이름과 활성화 텐서를 매핑한 딕셔너리\n",
    "out_dict = dict([(layer.name, layer.output) for layer in model.layers])\n",
    "\n",
    "# NOTE : 컨텐츠 손실에 사용할 층\n",
    "content_layer = 'block5_conv2'\n",
    "\n",
    "# NOTE : 스타일 손실에 사용할 층\n",
    "style_layers = ['block1_conv1', 'block2_conv1', 'block3_conv1', 'block4_conv1', 'block5_conv1']\n",
    " \n",
    "# NOTE : 손실 항목의 가중치 평균에 사용할 가중치\n",
    "total_variation_weights = 1e-4\n",
    "style_weights = 1.\n",
    "content_weights = 0.025\n",
    " \n",
    "# NOTE :컨텐츠 손실을 더함.\n",
    "# NOTE : 모든 손실 요소를 더해 하나의 스칼라 변수로 손실을 정의\n",
    "loss = K.variable(0.)\n",
    "layer_feat = out_dict[content_layer]\n",
    "tar_img_feat = layer_feat[0, :, :, :]\n",
    "comb_feat = layer_feat[2, :, :, :]\n",
    "loss += content_weights*content_loss(tar_img_feat, comb_feat)\n",
    "\n",
    "# NOTE : 각 타깃 층에 대한 스타일 손실을 더함.\n",
    "for layer_name in style_layers:\n",
    "    layer_feat = out_dict[layer_name]\n",
    "    style_refer_feat = layer_feat[1, :, :, :]\n",
    "    comb_feat = layer_feat[2, :, :, :]\n",
    "    sl = style_loss(style_refer_feat, comb_feat)\n",
    "    loss += (style_weights / len(style_layers)) * sl\n",
    "    \n",
    "# NOTE : 총 변위 손실을 더함.\n",
    "loss += total_variation_weights * total_variation_loss(comb_image)\n"
   ]
  },
  {
   "cell_type": "code",
   "execution_count": 45,
   "metadata": {},
   "outputs": [],
   "source": [
    "# NOTE : 경사 하강법 단계 설정\n",
    "\n",
    "# NOTE : 손실에 대한 생성된 이미지의 Gradient를 구함.\n",
    "grads = K.gradients(loss, comb_image)[0]\n",
    "\n",
    "# NOTE : 현재 손실과 Gradient 값을 추출하는 케라스 함수 객체.\n",
    "loss_n_grads = K.function([comb_image], [loss, grads])\n",
    "class Evaluator(object):\n",
    "    \n",
    "    def __init__(self):\n",
    "        self.loss_value = None\n",
    "        self.grads_value = None\n",
    "    \n",
    "    def loss(self, image):\n",
    "        assert self.loss_value is None\n",
    "        image = image.reshape((1, img_height, img_width, 3))\n",
    "        out = loss_n_grads([image])\n",
    "        loss_value = out[0]\n",
    "        grads_value = out[1].flatten().astype('float64')\n",
    "        self.loss_value = loss_value\n",
    "        self.grads_value = grads_value\n",
    "        return self.loss_value\n",
    "        \n",
    "    def grads(self, x):\n",
    "        assert self.loss_value is not None\n",
    "        grads_value = np.copy(self.grads_value)\n",
    "        \n",
    "        self.loss_value = None\n",
    "        self.grads_value = None\n",
    "        return grads_value\n",
    "    \n",
    "evaluator = Evaluator()\n",
    "\n"
   ]
  },
  {
   "cell_type": "code",
   "execution_count": 56,
   "metadata": {},
   "outputs": [
    {
     "name": "stdout",
     "output_type": "stream",
     "text": [
      "G:\\transfered\n"
     ]
    },
    {
     "ename": "FileNotFoundError",
     "evalue": "[Errno 2] No such file or directory: './Artificial-Intelligence/AI_reboot/Keras/3minute_keras/Datas/CNN/style_transfer/target/seoul.JPG'",
     "traceback": [
      "\u001b[1;31m---------------------------------------------------------------------------\u001b[0m",
      "\u001b[1;31mFileNotFoundError\u001b[0m                         Traceback (most recent call last)",
      "\u001b[1;32m<ipython-input-56-a163eb0c5965>\u001b[0m in \u001b[0;36m<module>\u001b[1;34m\u001b[0m\n\u001b[0;32m      6\u001b[0m \u001b[0mprint\u001b[0m\u001b[1;33m(\u001b[0m\u001b[0mos\u001b[0m\u001b[1;33m.\u001b[0m\u001b[0mgetcwd\u001b[0m\u001b[1;33m(\u001b[0m\u001b[1;33m)\u001b[0m\u001b[1;33m)\u001b[0m\u001b[1;33m\u001b[0m\u001b[1;33m\u001b[0m\u001b[0m\n\u001b[0;32m      7\u001b[0m \u001b[1;31m# NOTE : 초깃값은 타깃 이미지\u001b[0m\u001b[1;33m\u001b[0m\u001b[1;33m\u001b[0m\u001b[1;33m\u001b[0m\u001b[0m\n\u001b[1;32m----> 8\u001b[1;33m \u001b[0mx\u001b[0m \u001b[1;33m=\u001b[0m \u001b[0mpreprocessing\u001b[0m\u001b[1;33m(\u001b[0m\u001b[0mtar_image_path\u001b[0m\u001b[1;33m)\u001b[0m\u001b[1;33m\u001b[0m\u001b[1;33m\u001b[0m\u001b[0m\n\u001b[0m\u001b[0;32m      9\u001b[0m \u001b[1;33m\u001b[0m\u001b[0m\n\u001b[0;32m     10\u001b[0m \u001b[1;33m\u001b[0m\u001b[0m\n",
      "\u001b[1;32m<ipython-input-28-9f3e9b91bb8e>\u001b[0m in \u001b[0;36mpreprocessing\u001b[1;34m(img_path)\u001b[0m\n\u001b[0;32m      1\u001b[0m \u001b[1;32mdef\u001b[0m \u001b[0mpreprocessing\u001b[0m\u001b[1;33m(\u001b[0m\u001b[0mimg_path\u001b[0m\u001b[1;33m)\u001b[0m\u001b[1;33m:\u001b[0m\u001b[1;33m\u001b[0m\u001b[1;33m\u001b[0m\u001b[0m\n\u001b[0;32m      2\u001b[0m     img = load_img(img_path, target_size=(img_height, \n\u001b[1;32m----> 3\u001b[1;33m                                           img_width))\n\u001b[0m\u001b[0;32m      4\u001b[0m     \u001b[0mimg\u001b[0m \u001b[1;33m=\u001b[0m \u001b[0mimg_to_array\u001b[0m\u001b[1;33m(\u001b[0m\u001b[0mimg\u001b[0m\u001b[1;33m)\u001b[0m\u001b[1;33m\u001b[0m\u001b[1;33m\u001b[0m\u001b[0m\n\u001b[0;32m      5\u001b[0m     \u001b[0mimg\u001b[0m \u001b[1;33m=\u001b[0m \u001b[0mnp\u001b[0m\u001b[1;33m.\u001b[0m\u001b[0mexpand_dims\u001b[0m\u001b[1;33m(\u001b[0m\u001b[0mimg\u001b[0m\u001b[1;33m,\u001b[0m \u001b[0maxis\u001b[0m \u001b[1;33m=\u001b[0m \u001b[1;36m0\u001b[0m\u001b[1;33m)\u001b[0m\u001b[1;33m\u001b[0m\u001b[1;33m\u001b[0m\u001b[0m\n",
      "\u001b[1;32md:\\coding\\anaconda\\envs\\ai\\lib\\site-packages\\keras_preprocessing\\image\\utils.py\u001b[0m in \u001b[0;36mload_img\u001b[1;34m(path, grayscale, color_mode, target_size, interpolation)\u001b[0m\n\u001b[0;32m    108\u001b[0m         raise ImportError('Could not import PIL.Image. '\n\u001b[0;32m    109\u001b[0m                           'The use of `load_img` requires PIL.')\n\u001b[1;32m--> 110\u001b[1;33m     \u001b[0mimg\u001b[0m \u001b[1;33m=\u001b[0m \u001b[0mpil_image\u001b[0m\u001b[1;33m.\u001b[0m\u001b[0mopen\u001b[0m\u001b[1;33m(\u001b[0m\u001b[0mpath\u001b[0m\u001b[1;33m)\u001b[0m\u001b[1;33m\u001b[0m\u001b[1;33m\u001b[0m\u001b[0m\n\u001b[0m\u001b[0;32m    111\u001b[0m     \u001b[1;32mif\u001b[0m \u001b[0mcolor_mode\u001b[0m \u001b[1;33m==\u001b[0m \u001b[1;34m'grayscale'\u001b[0m\u001b[1;33m:\u001b[0m\u001b[1;33m\u001b[0m\u001b[1;33m\u001b[0m\u001b[0m\n\u001b[0;32m    112\u001b[0m         \u001b[1;32mif\u001b[0m \u001b[0mimg\u001b[0m\u001b[1;33m.\u001b[0m\u001b[0mmode\u001b[0m \u001b[1;33m!=\u001b[0m \u001b[1;34m'L'\u001b[0m\u001b[1;33m:\u001b[0m\u001b[1;33m\u001b[0m\u001b[1;33m\u001b[0m\u001b[0m\n",
      "\u001b[1;32md:\\coding\\anaconda\\envs\\ai\\lib\\site-packages\\PIL\\Image.py\u001b[0m in \u001b[0;36mopen\u001b[1;34m(fp, mode)\u001b[0m\n\u001b[0;32m   2768\u001b[0m \u001b[1;33m\u001b[0m\u001b[0m\n\u001b[0;32m   2769\u001b[0m     \u001b[1;32mif\u001b[0m \u001b[0mfilename\u001b[0m\u001b[1;33m:\u001b[0m\u001b[1;33m\u001b[0m\u001b[1;33m\u001b[0m\u001b[0m\n\u001b[1;32m-> 2770\u001b[1;33m         \u001b[0mfp\u001b[0m \u001b[1;33m=\u001b[0m \u001b[0mbuiltins\u001b[0m\u001b[1;33m.\u001b[0m\u001b[0mopen\u001b[0m\u001b[1;33m(\u001b[0m\u001b[0mfilename\u001b[0m\u001b[1;33m,\u001b[0m \u001b[1;34m\"rb\"\u001b[0m\u001b[1;33m)\u001b[0m\u001b[1;33m\u001b[0m\u001b[1;33m\u001b[0m\u001b[0m\n\u001b[0m\u001b[0;32m   2771\u001b[0m         \u001b[0mexclusive_fp\u001b[0m \u001b[1;33m=\u001b[0m \u001b[1;32mTrue\u001b[0m\u001b[1;33m\u001b[0m\u001b[1;33m\u001b[0m\u001b[0m\n\u001b[0;32m   2772\u001b[0m \u001b[1;33m\u001b[0m\u001b[0m\n",
      "\u001b[1;31mFileNotFoundError\u001b[0m: [Errno 2] No such file or directory: './Artificial-Intelligence/AI_reboot/Keras/3minute_keras/Datas/CNN/style_transfer/target/seoul.JPG'"
     ],
     "output_type": "error"
    }
   ],
   "source": [
    "result_prefix = 'style_transfer_result'\n",
    "idx = 20\n",
    "\n",
    "save_path = './Artificial-Intelligence/AI_reboot/Keras/3minute_keras/Datas/CNN/style_transfer/'\n",
    "\n",
    "print(os.getcwd())\n",
    "# NOTE : 초깃값은 타깃 이미지\n",
    "x = preprocessing(tar_image_path)\n",
    "\n",
    "\n",
    "x = x.flatten()\n",
    "for i in range(idx):\n",
    "    \n",
    "    print('반복 횟수:', i)\n",
    "    start_time = time.time()\n",
    "    x, min_val, info = fmin_l_bfgs_b(evaluator.loss, x,\n",
    "                                     fprime=evaluator.grads, maxfun=20)\n",
    "    print('현재 손실 값:', min_val)\n",
    "    # 생성된 현재 이미지를 저장합니다\n",
    "    img = x.copy().reshape((img_height, img_width, 3))\n",
    "    \n",
    "    img = deprocessing(img)\n",
    "    fname = result_prefix + '_at_iteration_%d.png' % i\n",
    "    \n",
    "    save_img(fname, img)\n",
    "    end_time = time.time()\n",
    "    print('저장 이미지: ', fname)\n",
    "    print('%d 번째 반복 완료: %ds' % (i, end_time - start_time))\n",
    "    \n",
    " \n",
    "    "
   ]
  }
 ],
 "metadata": {
  "kernelspec": {
   "display_name": "Python 2",
   "language": "python",
   "name": "python2"
  },
  "language_info": {
   "codemirror_mode": {
    "name": "ipython",
    "version": 2
   },
   "file_extension": ".py",
   "mimetype": "text/x-python",
   "name": "python",
   "nbconvert_exporter": "python",
   "pygments_lexer": "ipython2",
   "version": "2.7.6"
  }
 },
 "nbformat": 4,
 "nbformat_minor": 0
}

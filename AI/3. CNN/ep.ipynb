{
 "cells": [
  {
   "cell_type": "code",
   "execution_count": 17,
   "metadata": {
    "collapsed": true
   },
   "outputs": [
    {
     "name": "stdout",
     "output_type": "stream",
     "text": [
      "[]\nG:\\Studies\\Programming\\Python\\Artificial-Intelligence\\AI_reboot\\Keras\\3minute_keras\\Datas\\cat_and_dog\\cat\n"
     ]
    }
   ],
   "source": [
    "from PIL import Image\n",
    "import numpy as np\n",
    "import glob\n",
    "from matplotlib.pyplot import imshow\n",
    "from keras.preprocessing import image\n",
    "from keras.applications.imagenet_utils import preprocess_input\n",
    "import os\n",
    "\n",
    "\n",
    "fold_name = './Artificial-Intelligence/AI_reboot/Keras/3minute_keras/Datas/cat_and_dog/cat'\n",
    "img_path = glob.glob(os.path.join(fold_name, '*.jpg'))\n",
    "cats = [Image.open(img_path[imgs]).convert('RGB') for imgs in range(len(img_path))]\n",
    "\n",
    "print(cats)\n",
    "print(os.getcwd())"
   ]
  }
 ],
 "metadata": {
  "kernelspec": {
   "display_name": "Python 2",
   "language": "python",
   "name": "python2"
  },
  "language_info": {
   "codemirror_mode": {
    "name": "ipython",
    "version": 2
   },
   "file_extension": ".py",
   "mimetype": "text/x-python",
   "name": "python",
   "nbconvert_exporter": "python",
   "pygments_lexer": "ipython2",
   "version": "2.7.6"
  }
 },
 "nbformat": 4,
 "nbformat_minor": 0
}

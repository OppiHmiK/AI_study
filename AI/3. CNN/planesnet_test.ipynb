{
 "cells": [
  {
   "cell_type": "markdown",
   "metadata": {
    "collapsed": true
   },
   "source": [
    "# Data set : https://www.kaggle.com/rhammell/planesnet\n",
    "# Kaggle Planes in Satellite Imagery\n",
    "\n",
    "# 본 연습은 3분 딥러닝 케라스 맛을 참조하여 수행하였습니다.\n"
   ]
  },
  {
   "cell_type": "code",
   "execution_count": null,
   "metadata": {
    "collapsed": true
   },
   "outputs": [],
   "source": [
    "\n",
    "import os\n",
    "\n",
    "path = './Artificial-Intelligence/AI_reboot/Keras/3minute_keras/3. CNN'\n",
    "\n",
    "\n",
    "\n",
    "print(os.getcwd())"
   ]
  },
  {
   "cell_type": "code",
   "execution_count": null,
   "metadata": {},
   "outputs": [],
   "source": [
    "import plane as run\n",
    "\n",
    "data_dir = '../Datas/planesnet'\n",
    "set_name = '_planesnet'\n",
    "conv = [32, 128, 64]\n",
    "nh = [50, 200, 150]\n",
    "pd = [0.05, 0.2, 0.15]\n",
    "run.main(data_dir, set_name, conv, nh, pd)"
   ]
  },
  {
   "cell_type": "code",
   "execution_count": null,
   "metadata": {},
   "outputs": [],
   "source": [
    "\n",
    "\n"
   ]
  }
 ],
 "metadata": {
  "kernelspec": {
   "display_name": "Python 2",
   "language": "python",
   "name": "python2"
  },
  "language_info": {
   "codemirror_mode": {
    "name": "ipython",
    "version": 2
   },
   "file_extension": ".py",
   "mimetype": "text/x-python",
   "name": "python",
   "nbconvert_exporter": "python",
   "pygments_lexer": "ipython2",
   "version": "2.7.6"
  }
 },
 "nbformat": 4,
 "nbformat_minor": 0
}

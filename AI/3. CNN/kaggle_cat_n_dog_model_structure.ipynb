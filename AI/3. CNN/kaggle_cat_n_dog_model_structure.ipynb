{
 "cells": [
  {
   "cell_type": "code",
   "execution_count": 6,
   "metadata": {
    "collapsed": true
   },
   "outputs": [
    {
     "name": "stdout",
     "output_type": "stream",
     "text": [
      "G:\\Studies\\Programming\\Python\\Artificial-Intelligence\\AI_reboot\\Keras\\3minute_keras\\weights\\kaggle_cat_n_dog\n"
     ]
    },
    {
     "name": "stdout",
     "output_type": "stream",
     "text": [
      "Model: \"model_2\"\n_________________________________________________________________\nLayer (type)                 Output Shape              Param #   \n=================================================================\ninput_1 (InputLayer)         (None, 150, 150, 3)       0         \n_________________________________________________________________\nconv2d_1 (Conv2D)            (None, 150, 150, 32)      896       \n_________________________________________________________________\nconv2d_2 (Conv2D)            (None, 150, 150, 64)      18496     \n_________________________________________________________________\nmax_pooling2d_1 (MaxPooling2 (None, 75, 75, 64)        0         \n_________________________________________________________________\nconv2d_3 (Conv2D)            (None, 75, 75, 128)       73856     \n_________________________________________________________________\nmax_pooling2d_2 (MaxPooling2 (None, 37, 37, 128)       0         \n_________________________________________________________________\nconv2d_4 (Conv2D)            (None, 37, 37, 64)        73792     \n_________________________________________________________________\nmax_pooling2d_3 (MaxPooling2 (None, 18, 18, 64)        0         \n_________________________________________________________________\nbatch_normalization_1 (Batch (None, 18, 18, 64)        256       \n_________________________________________________________________\ndropout_1 (Dropout)          (None, 18, 18, 64)        0         \n_________________________________________________________________\nflatten_1 (Flatten)          (None, 20736)             0         \n_________________________________________________________________\ndense_1 (Dense)              (None, 100)               2073700   \n_________________________________________________________________\ndense_2 (Dense)              (None, 50)                5050      \n_________________________________________________________________\nbatch_normalization_2 (Batch (None, 50)                200       \n_________________________________________________________________\ndropout_2 (Dropout)          (None, 50)                0         \n_________________________________________________________________\ndense_3 (Dense)              (None, 150)               7650      \n_________________________________________________________________\nbatch_normalization_3 (Batch (None, 150)               600       \n_________________________________________________________________\ndropout_3 (Dropout)          (None, 150)               0         \n_________________________________________________________________\ndense_4 (Dense)              (None, 200)               30200     \n_________________________________________________________________\nbatch_normalization_4 (Batch (None, 200)               800       \n_________________________________________________________________\ndropout_4 (Dropout)          (None, 200)               0         \n_________________________________________________________________\nbatch_normalization_5 (Batch (None, 200)               800       \n_________________________________________________________________\ndense_5 (Dense)              (None, 2)                 402       \n=================================================================\nTotal params: 2,286,698\nTrainable params: 2,285,370\nNon-trainable params: 1,328\n_________________________________________________________________\n"
     ]
    }
   ],
   "source": [
    "import os\n",
    "\n",
    "path = '../weights/kaggle_cat_n_dog'\n",
    "# os.chdir(path)\n",
    "print(os.getcwd())\n",
    "from keras.models import Model, load_model\n",
    "m = load_model('kaggle_cat_n_dog.h5', custom_objects={'model' : Model})\n",
    "m.summary()"
   ]
  }
 ],
 "metadata": {
  "kernelspec": {
   "display_name": "Python 2",
   "language": "python",
   "name": "python2"
  },
  "language_info": {
   "codemirror_mode": {
    "name": "ipython",
    "version": 2
   },
   "file_extension": ".py",
   "mimetype": "text/x-python",
   "name": "python",
   "nbconvert_exporter": "python",
   "pygments_lexer": "ipython2",
   "version": "2.7.6"
  }
 },
 "nbformat": 4,
 "nbformat_minor": 0
}

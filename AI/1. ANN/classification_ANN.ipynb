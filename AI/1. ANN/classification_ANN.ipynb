{
 "cells": [
  {
   "cell_type": "code",
   "execution_count": 1,
   "metadata": {
    "collapsed": true
   },
   "outputs": [
    {
     "name": "stderr",
     "output_type": "stream",
     "text": [
      "Using TensorFlow backend.\n"
     ]
    }
   ],
   "source": [
    "# -*- coding : utf-8 -*-\n",
    "\n",
    "from keras.utils import np_utils\n",
    "from keras import models, layers\n",
    "import matplotlib.pyplot as plt\n",
    "from keras import datasets\n",
    "import numpy as np"
   ]
  },
  {
   "cell_type": "code",
   "execution_count": 2,
   "metadata": {},
   "outputs": [],
   "source": [
    "class mnist_ANN(models.Model):\n",
    "    def __init__(self, Ni, Nh, No):\n",
    "        hidden = layers.Dense(Nh)\n",
    "        out = layers.Dense(No)\n",
    "        relu = layers.Activation('relu')\n",
    "        softmax = layers.Activation('softmax')\n",
    "        \n",
    "        i = layers.Input(shape = (Ni, ))\n",
    "        h = relu(hidden(i))\n",
    "        o = softmax(out(h))\n",
    "        \n",
    "        super().__init__(i, o)\n",
    "        self.compile(loss = 'categorical_crossentropy', optimizer = 'adam', metrics=['accuracy'])"
   ]
  },
  {
   "cell_type": "code",
   "execution_count": 3,
   "metadata": {},
   "outputs": [],
   "source": [
    "def data_load():\n",
    "    \n",
    "    (in_train, out_train), (in_test, out_test) = datasets.mnist.load_data()\n",
    "    \n",
    "    out_train = np_utils.to_categorical(out_train)\n",
    "    out_test = np_utils.to_categorical(out_test)\n",
    "    \n",
    "    W, H = in_train.shape[1], in_train.shape[2]\n",
    "    in_train = in_train.reshape(-1, W*H)\n",
    "    in_test = in_test.reshape(-1, W*H)\n",
    "    \n",
    "    in_train = in_train / 255.0\n",
    "    in_test = in_test / 255.0\n",
    "    \n",
    "    return (in_train, out_train), (in_test, out_test)"
   ]
  },
  {
   "cell_type": "code",
   "execution_count": 4,
   "metadata": {},
   "outputs": [],
   "source": [
    "def plot_loss(history):\n",
    "    plt.plot(history.history['loss'])\n",
    "    plt.plot(history.history['val_loss'])\n",
    "    plt.title('Model Loss')\n",
    "    plt.xlabel('Epoch')\n",
    "    plt.ylabel('Loss')\n",
    "    plt.legend(['Train', 'Test'], loc = 0)\n",
    "    \n",
    "def plot_accu(history):\n",
    "    plt.plot(history.history['acc'])\n",
    "    plt.plot(history.history['val_acc'])\n",
    "    plt.title('Model Accuracy')\n",
    "    plt.xlabel('Epoch')\n",
    "    plt.ylabel('Accuracy')\n",
    "    plt.legend(['Train', 'Test'], loc=0)"
   ]
  },
  {
   "cell_type": "code",
   "execution_count": 5,
   "metadata": {},
   "outputs": [],
   "source": [
    "def pred():\n",
    "    plt.imshow()"
   ]
  },
  {
   "cell_type": "code",
   "execution_count": 6,
   "metadata": {},
   "outputs": [],
   "source": [
    "def main():\n",
    "    \n",
    "    Ni = 784; Nh = 100; No = 10\n",
    "    model = mnist_ANN(Ni, Nh, No)\n",
    "    (in_train, out_train), (in_test, out_test) = data_load()\n",
    "    history = model.fit(in_train, out_train, epochs = 15, batch_size = 100)\n",
    "    perform_test = model.evaluate(in_test, out_test, batch_size=100)\n",
    "    print('Test Loss and Accuracy : ', perform_test)\n",
    "    \n",
    "    return model.predict(in_test)"
   ]
  },
  {
   "cell_type": "code",
   "execution_count": null,
   "metadata": {},
   "outputs": [],
   "source": [
    "if __name__ == '__main__':\n",
    "    np.random.seed(999)\n",
    "    arr = np.random.randint(1, 10000, 10)\n",
    "    \n",
    "    (in_test, out_test) = data_load()[1]\n",
    "    pred = main()\n",
    "    for rep in arr:\n",
    "        pred_ind = np.argmax(pred[rep])\n",
    "        \n",
    "        print('Predict label : ', pred_ind)\n",
    "        print('Exact label : ', np.argmax(out_test[rep]))\n",
    "\n"
   ]
  }
 ],
 "metadata": {
  "kernelspec": {
   "display_name": "Python 2",
   "language": "python",
   "name": "python2"
  },
  "language_info": {
   "codemirror_mode": {
    "name": "ipython",
    "version": 2
   },
   "file_extension": ".py",
   "mimetype": "text/x-python",
   "name": "python",
   "nbconvert_exporter": "python",
   "pygments_lexer": "ipython2",
   "version": "2.7.6"
  }
 },
 "nbformat": 4,
 "nbformat_minor": 0
}

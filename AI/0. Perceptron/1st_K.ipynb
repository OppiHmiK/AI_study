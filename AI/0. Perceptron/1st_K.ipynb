{
 "cells": [
  {
   "cell_type": "code",
   "execution_count": 1,
   "metadata": {
    "collapsed": true
   },
   "outputs": [
    {
     "name": "stderr",
     "output_type": "stream",
     "text": [
      "Using TensorFlow backend.\n"
     ]
    }
   ],
   "source": [
    "# -*- coding : utf-8 -*-\n",
    "import keras as K\n",
    "import numpy as np"
   ]
  },
  {
   "cell_type": "code",
   "execution_count": 2,
   "metadata": {},
   "outputs": [],
   "source": [
    "x = np.array([0, 1, 2, 3, 4, 5])\n",
    "y = 2*x + 1"
   ]
  },
  {
   "cell_type": "code",
   "execution_count": 4,
   "metadata": {},
   "outputs": [
    {
     "name": "stdout",
     "output_type": "stream",
     "text": [
      "Targets :  [ 5  7  9 11]\nPredictions :  [ 4.9878583  6.9790726  8.970286  10.961501 ]\n"
     ]
    }
   ],
   "source": [
    "# NOTE : model 구축\n",
    "model = K.models.Sequential()\n",
    "\n",
    "# NOTE : ANN 계층추가\n",
    "model.add(K.layers.Dense(1, input_shape=(1,)))\n",
    "\n",
    "# NOTE : 구축한 모델 하습방법 컴파일\n",
    "model.compile('SGD', 'mse')\n",
    "\n",
    "# NOTE : 입력신호 2개, 출력신호 2개를 이용해 학습\n",
    "# NOTE : verbose: 학습진행 사항 표시 여부 0: 표시 안함, 1: 표시 (default = 1)\n",
    "model.fit(x[:2], y[:2], epochs=1000, verbose=0)\n",
    "\n",
    "print('Targets : ', y[2:])\n",
    "print('Predictions : ', model.predict(x[2:]).flatten())"
   ]
  },
  {
   "cell_type": "code",
   "execution_count": null,
   "metadata": {},
   "outputs": [],
   "source": [
    "# NOTE : 분산 방식 모델링을 포함하는 함수형 구현\n",
    "\n",
    "# 1.입력 계층 정의\n",
    "# x = K.layers.Input(shape=(Nin, )) ※Nin : 입력 계층의 노드 수 \n",
    "\n",
    "# 2.은닉 계층의 구조와 수\n",
    "# h = K.layers.Activation('relu')(layers.Dense(Nh)(x)) ※Nh : 은닉 계층의 노드 수\n",
    "\n",
    "# 3.출력 계층 정의\n",
    "# y = K.layers.Activation('softmax')(layers.Dense(Nout)(h)) ※Nout : 출력 계층의 노드 수\n",
    "\n",
    "# 4.모델 구축\n",
    "# model = K.models.Model(x, y)\n",
    "# model.compile(loss='categorical_crossentropy',\n",
    "#               optimizer = 'adam', metrics=['accuracy'])\n",
    "\n",
    "# NOTE : metrics['accuracy'] 예측이 진행될 때 성능 검증을 위해 손실뿐 아니라 정확도도 측정."
   ]
  }
 ],
 "metadata": {
  "kernelspec": {
   "display_name": "Python 2",
   "language": "python",
   "name": "python2"
  },
  "language_info": {
   "codemirror_mode": {
    "name": "ipython",
    "version": 2
   },
   "file_extension": ".py",
   "mimetype": "text/x-python",
   "name": "python",
   "nbconvert_exporter": "python",
   "pygments_lexer": "ipython2",
   "version": "2.7.6"
  }
 },
 "nbformat": 4,
 "nbformat_minor": 0
}

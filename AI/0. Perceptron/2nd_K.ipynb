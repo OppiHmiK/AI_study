{
 "cells": [
  {
   "cell_type": "code",
   "execution_count": null,
   "metadata": {
    "collapsed": true
   },
   "outputs": [
    {
     "name": "stdout",
     "output_type": "stream",
     "text": [
      "(60000, 784)\n"
     ]
    }
   ],
   "source": [
    "# -*- coding : utf-8 -*-\n",
    "# NOTE : 분류 ANN\n",
    "\n",
    "import matplotlib.pyplot as plt\n",
    "from keras.utils import np_utils\n",
    "from keras import datasets\n",
    "import numpy as np\n",
    "\n",
    "(in_train, out_train), (in_test, out_test) = datasets.mnist.load_data()\n",
    "\n",
    "# NOTE : 0 ~ 9까지의 숫자로 구성된 출력값을 0과 1로 표현되는 벡터 10개로 변환\n",
    "out_train = np_utils.to_categorical(out_train)\n",
    "out_test = np_utils.to_categorical(out_test)\n",
    "\n",
    "# NOTE : 픽셀 정보가 들어있는 3차원 데이터인 실제 학습 및 명가용 이미지를 2차원으로 조정\n",
    "L, W, H = in_train.shape\n",
    "in_train = in_train.reshape(-1, W*H)\n",
    "in_test = in_test.reshape(-1, W*H)\n",
    "\n",
    "# NOTE : ANN 최적화\n",
    "# NOTE : 0 ~ 1사이의 실수로 변환\n",
    "in_train = in_train / 255.0\n",
    "in_test = in_test / 255.0\n",
    "\n"
   ]
  },
  {
   "cell_type": "code",
   "execution_count": 4,
   "metadata": {},
   "outputs": [],
   "source": [
    "def plot_loss(history):\n",
    "    plt.plot(history.history['loss'])\n",
    "    plt.plot(history.history['val_loss'])\n",
    "    plt.title('Model Loss')\n",
    "    plt.ylabel('Loss')\n",
    "    plt.xlabel('Epochs')\n",
    "    plt.legend(['Train', 'Test'], loc = 0)"
   ]
  },
  {
   "cell_type": "code",
   "execution_count": 5,
   "metadata": {},
   "outputs": [],
   "source": [
    "def plot_acc(history):\n",
    "    plt.plot(history.history['acc'])\n",
    "    plt.plot(history.history['val_acc'])\n",
    "    plt.title('Model accuracy')\n",
    "    plt.ylabel('Accuracy')\n",
    "    plt.xlabel('Epochs')\n",
    "    plt.legend(['Train', 'Test'], loc = 0)"
   ]
  }
 ],
 "metadata": {
  "kernelspec": {
   "display_name": "Python 2",
   "language": "python",
   "name": "python2"
  },
  "language_info": {
   "codemirror_mode": {
    "name": "ipython",
    "version": 2
   },
   "file_extension": ".py",
   "mimetype": "text/x-python",
   "name": "python",
   "nbconvert_exporter": "python",
   "pygments_lexer": "ipython2",
   "version": "2.7.6"
  }
 },
 "nbformat": 4,
 "nbformat_minor": 0
}

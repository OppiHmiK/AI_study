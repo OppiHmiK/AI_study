{
 "cells": [
  {
   "cell_type": "code",
   "execution_count": 1,
   "metadata": {
    "collapsed": true
   },
   "outputs": [],
   "source": [
    "import json\n",
    "\n",
    "data_path = './Artificial-Intelligence/AI_reboot/Keras/Datas/RNN/wp_movies_10k.ndjson'\n",
    "\n",
    "with open(data_path) as fin:\n",
    "    movies = [json.loads(rep) for rep in fin]\n"
   ]
  },
  {
   "cell_type": "code",
   "execution_count": 48,
   "metadata": {},
   "outputs": [
    {
     "data": {
      "text/plain": [
       "[('Rotten Tomatoes', 9393),\n ('Category:English-language films', 5882),\n ('Category:American films', 5867)]"
      ]
     },
     "execution_count": 48,
     "metadata": {},
     "output_type": "execute_result"
    }
   ],
   "source": [
    "from collections import Counter\n",
    "link_counts = Counter()\n",
    "\n",
    "for movie in movies:\n",
    "    link_counts.update(movie[2])\n",
    "link_counts.most_common(3)"
   ]
  },
  {
   "cell_type": "code",
   "execution_count": 49,
   "metadata": {},
   "outputs": [],
   "source": [
    "top_links = [link for link, c in link_counts.items() if c>=3]\n",
    "link_2_idx = {link: idx for idx, link in enumerate(top_links)}\n",
    "movie_2_idx = {movie[0] : idx for idx, movie in enumerate(movies)}"
   ]
  },
  {
   "cell_type": "code",
   "execution_count": 51,
   "metadata": {},
   "outputs": [],
   "source": [
    "pair = []\n",
    "for movie in movies:\n",
    "    pair.extend((link_2_idx[link], movie_2_idx[movie[0]])\n",
    "                for link in movie[2] if link in link_2_idx)\n",
    "pair_set = set(pair)"
   ]
  },
  {
   "cell_type": "code",
   "execution_count": 52,
   "metadata": {},
   "outputs": [
    {
     "name": "stdout",
     "output_type": "stream",
     "text": [
      "Model: \"model_4\"\n__________________________________________________________________________________________________\nLayer (type)                    Output Shape         Param #     Connected to                     \n==================================================================================================\nlink (InputLayer)               (None, 1)            0                                            \n__________________________________________________________________________________________________\nmovie (InputLayer)              (None, 1)            0                                            \n__________________________________________________________________________________________________\nlink_embedding (Embedding)      (None, 1, 30)        2007390     link[0][0]                       \n__________________________________________________________________________________________________\nmovie_embedding (Embedding)     (None, 1, 30)        300000      movie[0][0]                      \n__________________________________________________________________________________________________\ndot_product (Dot)               (None, 1, 1)         0           link_embedding[0][0]             \n                                                                 movie_embedding[0][0]            \n__________________________________________________________________________________________________\nreshape_4 (Reshape)             (None, 1)            0           dot_product[0][0]                \n==================================================================================================\nTotal params: 2,307,390\nTrainable params: 2,307,390\nNon-trainable params: 0\n__________________________________________________________________________________________________\n"
     ]
    }
   ],
   "source": [
    "from keras.layers import Input, Embedding, Reshape\n",
    "from keras.models import Model\n",
    "import numpy as np\n",
    "from keras.layers.merge import Dot\n",
    "import random\n",
    "\n",
    "def movie_embedding_model(embedding_size=30):\n",
    "    link = Input(name = 'link', shape=(1,))\n",
    "    movie = Input(name = 'movie', shape = (1,))\n",
    "    link_embedding = Embedding(name = 'link_embedding', input_dim = len(top_links), output_dim=embedding_size)(link)\n",
    "    movie_embedding = Embedding(name = 'movie_embedding', input_dim = len(movie_2_idx), output_dim=embedding_size)(movie)\n",
    "    dot = Dot(name = 'dot_product',axes = 2, normalize=True)([link_embedding, movie_embedding])\n",
    "    merged = Reshape((1,))(dot)\n",
    "    model = Model(inputs=[link, movie], outputs=[merged])\n",
    "    model.compile(optimizer='nadam', loss='mse')\n",
    "    return model\n",
    "\n",
    "model = movie_embedding_model()\n",
    "model.summary()"
   ]
  },
  {
   "cell_type": "code",
   "execution_count": 53,
   "metadata": {},
   "outputs": [],
   "source": [
    "random.seed(5)\n",
    "\n",
    "def batchifier(pair, positive_samples = 50, negative_ratio = 5):\n",
    "    batch_size = positive_samples*(1+negative_ratio)\n",
    "    batch = np.zeros((batch_size, 3))\n",
    "    \n",
    "    while True:\n",
    "        for idx, (link_id, movie_id) in enumerate(random.sample(pair, positive_samples)):\n",
    "            batch[idx, :] = (link_id, movie_id, 1)\n",
    "        idx = positive_samples\n",
    "        \n",
    "        while idx < batch_size:\n",
    "            movie_id = random.randrange(len(movie_2_idx))\n",
    "            link_id = random.randrange(len(top_links))\n",
    "            \n",
    "            if not (link_id, movie_id) in pair_set:\n",
    "                batch[idx, :] = (link_id, movie_id, -1)\n",
    "                idx += 1\n",
    "            np.random.shuffle(batch)\n",
    "            yield {'link': batch[:, 0], 'movie': batch[:,1]}, batch[:,2]\n",
    "                "
   ]
  },
  {
   "cell_type": "code",
   "execution_count": 18,
   "metadata": {},
   "outputs": [
    {
     "name": "stdout",
     "output_type": "stream",
     "text": [
      "Epoch 1/25\n"
     ]
    },
    {
     "name": "stdout",
     "output_type": "stream",
     "text": [
      " - 32s - loss: 0.0012\n"
     ]
    },
    {
     "name": "stdout",
     "output_type": "stream",
     "text": [
      "Epoch 2/25\n"
     ]
    },
    {
     "name": "stdout",
     "output_type": "stream",
     "text": [
      " - 31s - loss: 0.0012\n"
     ]
    },
    {
     "name": "stdout",
     "output_type": "stream",
     "text": [
      "Epoch 3/25\n"
     ]
    },
    {
     "name": "stdout",
     "output_type": "stream",
     "text": [
      " - 31s - loss: 0.0013\n"
     ]
    },
    {
     "name": "stdout",
     "output_type": "stream",
     "text": [
      "Epoch 4/25\n"
     ]
    },
    {
     "name": "stdout",
     "output_type": "stream",
     "text": [
      " - 31s - loss: 0.0015\n"
     ]
    },
    {
     "name": "stdout",
     "output_type": "stream",
     "text": [
      "Epoch 5/25\n"
     ]
    },
    {
     "name": "stdout",
     "output_type": "stream",
     "text": [
      " - 31s - loss: 0.0012\n"
     ]
    },
    {
     "name": "stdout",
     "output_type": "stream",
     "text": [
      "Epoch 6/25\n"
     ]
    },
    {
     "name": "stdout",
     "output_type": "stream",
     "text": [
      " - 31s - loss: 0.0015\n"
     ]
    },
    {
     "name": "stdout",
     "output_type": "stream",
     "text": [
      "Epoch 7/25\n"
     ]
    },
    {
     "name": "stdout",
     "output_type": "stream",
     "text": [
      " - 31s - loss: 0.0016\n"
     ]
    },
    {
     "name": "stdout",
     "output_type": "stream",
     "text": [
      "Epoch 8/25\n"
     ]
    },
    {
     "name": "stdout",
     "output_type": "stream",
     "text": [
      " - 31s - loss: 0.0014\n"
     ]
    },
    {
     "name": "stdout",
     "output_type": "stream",
     "text": [
      "Epoch 9/25\n"
     ]
    },
    {
     "name": "stdout",
     "output_type": "stream",
     "text": [
      " - 31s - loss: 0.0015\n"
     ]
    },
    {
     "name": "stdout",
     "output_type": "stream",
     "text": [
      "Epoch 10/25\n"
     ]
    },
    {
     "name": "stdout",
     "output_type": "stream",
     "text": [
      " - 31s - loss: 0.0014\n"
     ]
    },
    {
     "name": "stdout",
     "output_type": "stream",
     "text": [
      "Epoch 11/25\n"
     ]
    },
    {
     "name": "stdout",
     "output_type": "stream",
     "text": [
      " - 31s - loss: 0.0014\n"
     ]
    },
    {
     "name": "stdout",
     "output_type": "stream",
     "text": [
      "Epoch 12/25\n"
     ]
    },
    {
     "name": "stdout",
     "output_type": "stream",
     "text": [
      " - 31s - loss: 0.0018\n"
     ]
    },
    {
     "name": "stdout",
     "output_type": "stream",
     "text": [
      "Epoch 13/25\n"
     ]
    },
    {
     "name": "stdout",
     "output_type": "stream",
     "text": [
      " - 31s - loss: 0.0013\n"
     ]
    },
    {
     "name": "stdout",
     "output_type": "stream",
     "text": [
      "Epoch 14/25\n"
     ]
    },
    {
     "name": "stdout",
     "output_type": "stream",
     "text": [
      " - 31s - loss: 0.0017\n"
     ]
    },
    {
     "name": "stdout",
     "output_type": "stream",
     "text": [
      "Epoch 15/25\n"
     ]
    },
    {
     "name": "stdout",
     "output_type": "stream",
     "text": [
      " - 34s - loss: 0.0019\n"
     ]
    },
    {
     "name": "stdout",
     "output_type": "stream",
     "text": [
      "Epoch 16/25\n"
     ]
    },
    {
     "name": "stdout",
     "output_type": "stream",
     "text": [
      " - 31s - loss: 0.0013\n"
     ]
    },
    {
     "name": "stdout",
     "output_type": "stream",
     "text": [
      "Epoch 17/25\n"
     ]
    },
    {
     "name": "stdout",
     "output_type": "stream",
     "text": [
      " - 32s - loss: 0.0015\n"
     ]
    },
    {
     "name": "stdout",
     "output_type": "stream",
     "text": [
      "Epoch 18/25\n"
     ]
    },
    {
     "name": "stdout",
     "output_type": "stream",
     "text": [
      " - 33s - loss: 0.0022\n"
     ]
    },
    {
     "name": "stdout",
     "output_type": "stream",
     "text": [
      "Epoch 19/25\n"
     ]
    },
    {
     "name": "stdout",
     "output_type": "stream",
     "text": [
      " - 36s - loss: 0.0016\n"
     ]
    },
    {
     "name": "stdout",
     "output_type": "stream",
     "text": [
      "Epoch 20/25\n"
     ]
    },
    {
     "name": "stdout",
     "output_type": "stream",
     "text": [
      " - 40s - loss: 0.0028\n"
     ]
    },
    {
     "name": "stdout",
     "output_type": "stream",
     "text": [
      "Epoch 21/25\n"
     ]
    },
    {
     "name": "stdout",
     "output_type": "stream",
     "text": [
      " - 36s - loss: 0.0020\n"
     ]
    },
    {
     "name": "stdout",
     "output_type": "stream",
     "text": [
      "Epoch 22/25\n"
     ]
    },
    {
     "name": "stdout",
     "output_type": "stream",
     "text": [
      " - 39s - loss: 0.0018\n"
     ]
    },
    {
     "name": "stdout",
     "output_type": "stream",
     "text": [
      "Epoch 23/25\n"
     ]
    },
    {
     "name": "stdout",
     "output_type": "stream",
     "text": [
      " - 32s - loss: 0.0021\n"
     ]
    },
    {
     "name": "stdout",
     "output_type": "stream",
     "text": [
      "Epoch 24/25\n"
     ]
    },
    {
     "name": "stdout",
     "output_type": "stream",
     "text": [
      " - 34s - loss: 0.0017\n"
     ]
    },
    {
     "name": "stdout",
     "output_type": "stream",
     "text": [
      "Epoch 25/25\n"
     ]
    },
    {
     "name": "stdout",
     "output_type": "stream",
     "text": [
      " - 33s - loss: 0.0018\n"
     ]
    },
    {
     "data": {
      "text/plain": [
       "<keras.callbacks.History at 0x1f660517320>"
      ]
     },
     "execution_count": 18,
     "metadata": {},
     "output_type": "execute_result"
    }
   ],
   "source": [
    "import tensorflow as tf\n",
    "config = tf.ConfigProto()\n",
    "config.gpu_options.allow_growth = True\n",
    "sess = tf.Session(config = config)\n",
    "\n",
    "positive_sample_per_batch = 512\n",
    "model.fit_generator(batchifier(pair, positive_samples = positive_sample_per_batch, negative_ratio=10),\n",
    "                    epochs = 25, steps_per_epoch=len(pair) // positive_sample_per_batch,\n",
    "                    verbose=2)"
   ]
  },
  {
   "cell_type": "code",
   "execution_count": 54,
   "metadata": {},
   "outputs": [
    {
     "data": {
      "text/plain": [
       "(array([0.17623569, 0.15901437, 0.14038229, ..., 0.17390047, 0.15246683,\n        0.15833506], dtype=float32),\n array([[-0.04233225, -0.19315684,  0.27852142, ...,  0.17255147,\n         -0.17729752,  0.2398816 ],\n        [-0.03761582,  0.16209969,  0.10093085, ..., -0.17638569,\n          0.219261  ,  0.26952153],\n        [-0.02847338,  0.264888  ,  0.05882081, ...,  0.28944448,\n         -0.29681388, -0.28397623],\n        ...,\n        [ 0.20009045,  0.22480172, -0.17271577, ...,  0.28425655,\n         -0.26119947,  0.03757563],\n        [ 0.31772807,  0.12799498,  0.17518868, ...,  0.14878696,\n          0.24458723, -0.06421117],\n        [ 0.0102815 , -0.25760958,  0.03863136, ...,  0.12341172,\n         -0.00209643, -0.27583605]], dtype=float32))"
      ]
     },
     "execution_count": 54,
     "metadata": {},
     "output_type": "execute_result"
    }
   ],
   "source": [
    "movie = model.get_layer('movie_embedding')\n",
    "movie_weights = movie.get_weights()[0]\n",
    "\n",
    "lens = np.linalg.norm(movie_weights, axis=1)\n",
    "normalized = (movie_weights.T/lens).T\n",
    "\n",
    "lens, normalized"
   ]
  },
  {
   "cell_type": "code",
   "execution_count": 55,
   "metadata": {},
   "outputs": [
    {
     "name": "stdout",
     "output_type": "stream",
     "text": [
      "27 The Danish Girl (film) 1.0\n1885 Push (2009 film) 0.694112\n9693 The Banger Sisters 0.6342791\n8095 Justin Bieber's Believe 0.6220367\n1398 Weird Science (film) 0.5574963\n2805 Dorian Gray (2009 film) 0.5505457\n6068 The Mirror Crack'd 0.54453766\n6677 Luck (film) 0.54203284\n2779 American Pastoral (film) 0.5384179\n4967 Last Man Standing (film) 0.536665\n"
     ]
    }
   ],
   "source": [
    "def neighbors(movie):\n",
    "    digits = np.dot(normalized, normalized[movie_2_idx[movie]])\n",
    "    closest = np.argsort(digits)[-10:]\n",
    "    for rep in reversed(closest):\n",
    "        print(rep, movies[rep][0], digits[rep])\n",
    "neighbors('The Danish Girl (film)')"
   ]
  },
  {
   "cell_type": "code",
   "execution_count": 56,
   "metadata": {},
   "outputs": [],
   "source": [
    "best = ['Star Wars: The Force Awakens', 'The Martian (film)', 'Tangerine (film)', 'Straight Outta Compton (film)',\n",
    "        'Brooklyn (film)', 'Carol (film)', 'Spotlight (film)']\n",
    "worst = ['American Ultra', 'The Cobbler (2014 film)', 'Entourage (film)', 'Fantastic Four (2015 film)',\n",
    "         'Get Hard', 'Hot Pursuit (2015 film)', 'Mortdecai (film)', 'Serena (2014 film)', 'Vacation (2015 film)']"
   ]
  },
  {
   "cell_type": "code",
   "execution_count": 57,
   "metadata": {},
   "outputs": [
    {
     "data": {
      "text/plain": [
       "SVC(C=1.0, cache_size=200, class_weight=None, coef0=0.0,\n    decision_function_shape='ovr', degree=3, gamma='auto_deprecated',\n    kernel='linear', max_iter=-1, probability=False, random_state=None,\n    shrinking=True, tol=0.001, verbose=False)"
      ]
     },
     "execution_count": 57,
     "metadata": {},
     "output_type": "execute_result"
    }
   ],
   "source": [
    "y = np.asarray([1 for _ in best]+[0 for _ in worst])\n",
    "x = np.asarray([normalized[movie_2_idx[movie]] for movie in best+worst])\n",
    "\n",
    "from sklearn import svm\n",
    "clf = svm.SVC(kernel='linear')\n",
    "clf.fit(x, y)"
   ]
  },
  {
   "cell_type": "code",
   "execution_count": 58,
   "metadata": {},
   "outputs": [
    {
     "name": "stdout",
     "output_type": "stream",
     "text": [
      "best:\n6702 Cradle Will Rock 1.3137620125649017\n2217 Agora (film) 1.17759131949704\n3556 The 9th Life of Louis Drax 1.0847499258300148\n468 Dirty Dancing 1.0783623481743891\n7787 Essex Boys 1.0633604996513664\nworst:\n6461 One More Chance (2007 film) -2.1407119086851503\n7448 Cannibal! The Musical -2.009132021579877\n9446 Angel (2007 film) -1.9226658879690866\n8498 California Suite (film) -1.9133332742126727\n8748 Manmadhan (film) -1.8508453390155672\n"
     ]
    }
   ],
   "source": [
    "estimated_movie_ratings = clf.decision_function(normalized)\n",
    "best = np.argsort(estimated_movie_ratings)\n",
    "print('best:')\n",
    "for c in reversed(best[-5:]):\n",
    "    print(c, movies[c][0], estimated_movie_ratings[c])\n",
    "    \n",
    "print('worst:')\n",
    "for c in best[:5]:\n",
    "    print(c, movies[c][0], estimated_movie_ratings[c])\n",
    "    "
   ]
  },
  {
   "cell_type": "code",
   "execution_count": 60,
   "metadata": {},
   "outputs": [
    {
     "ename": "TypeError",
     "evalue": "'NoneType' object is not subscriptable",
     "traceback": [
      "\u001b[1;31m---------------------------------------------------------------------------\u001b[0m",
      "\u001b[1;31mTypeError\u001b[0m                                 Traceback (most recent call last)",
      "\u001b[1;32m<ipython-input-60-83171b5e6742>\u001b[0m in \u001b[0;36m<module>\u001b[1;34m\u001b[0m\n\u001b[0;32m      1\u001b[0m rotten_y = np.asarray([float(movie[-2][:-1]) / 100\n\u001b[1;32m----> 2\u001b[1;33m                        for movie in movies if movies[-2]])\n\u001b[0m\u001b[0;32m      3\u001b[0m rotten_x = np.asarray([normalized[movie_2_idx[movie[0]]]\n\u001b[0;32m      4\u001b[0m                        for movie in movies if movies[-2]])\n",
      "\u001b[1;32m<ipython-input-60-83171b5e6742>\u001b[0m in \u001b[0;36m<listcomp>\u001b[1;34m(.0)\u001b[0m\n\u001b[0;32m      1\u001b[0m rotten_y = np.asarray([float(movie[-2][:-1]) / 100\n\u001b[1;32m----> 2\u001b[1;33m                        for movie in movies if movies[-2]])\n\u001b[0m\u001b[0;32m      3\u001b[0m rotten_x = np.asarray([normalized[movie_2_idx[movie[0]]]\n\u001b[0;32m      4\u001b[0m                        for movie in movies if movies[-2]])\n",
      "\u001b[1;31mTypeError\u001b[0m: 'NoneType' object is not subscriptable"
     ],
     "output_type": "error"
    }
   ],
   "source": [
    "rotten_y = np.asarray([float(movie[-2][:-1]) / 100\n",
    "                       for movie in movies if movies[-2]])\n",
    "rotten_x = np.asarray([normalized[movie_2_idx[movie[0]]]\n",
    "                       for movie in movies if movies[-2]])"
   ]
  },
  {
   "cell_type": "code",
   "execution_count": 45,
   "metadata": {},
   "outputs": [
    {
     "ename": "NameError",
     "evalue": "name 'rotten_x' is not defined",
     "traceback": [
      "\u001b[1;31m---------------------------------------------------------------------------\u001b[0m",
      "\u001b[1;31mNameError\u001b[0m                                 Traceback (most recent call last)",
      "\u001b[1;32m<ipython-input-45-8c9a602271c2>\u001b[0m in \u001b[0;36m<module>\u001b[1;34m\u001b[0m\n\u001b[0;32m      1\u001b[0m \u001b[1;32mfrom\u001b[0m \u001b[0msklearn\u001b[0m\u001b[1;33m.\u001b[0m\u001b[0mlinear_model\u001b[0m \u001b[1;32mimport\u001b[0m \u001b[0mLinearRegression\u001b[0m\u001b[1;33m\u001b[0m\u001b[1;33m\u001b[0m\u001b[0m\n\u001b[0;32m      2\u001b[0m \u001b[1;33m\u001b[0m\u001b[0m\n\u001b[1;32m----> 3\u001b[1;33m \u001b[0mtraining_cut\u001b[0m \u001b[1;33m=\u001b[0m \u001b[0mint\u001b[0m\u001b[1;33m(\u001b[0m\u001b[0mlen\u001b[0m\u001b[1;33m(\u001b[0m\u001b[0mrotten_x\u001b[0m\u001b[1;33m)\u001b[0m \u001b[1;33m*\u001b[0m \u001b[1;36m0.8\u001b[0m\u001b[1;33m)\u001b[0m\u001b[1;33m\u001b[0m\u001b[1;33m\u001b[0m\u001b[0m\n\u001b[0m\u001b[0;32m      4\u001b[0m \u001b[0mregr\u001b[0m \u001b[1;33m=\u001b[0m \u001b[0mLinearRegression\u001b[0m\u001b[1;33m(\u001b[0m\u001b[1;33m)\u001b[0m\u001b[1;33m\u001b[0m\u001b[1;33m\u001b[0m\u001b[0m\n\u001b[0;32m      5\u001b[0m \u001b[0mregr\u001b[0m\u001b[1;33m.\u001b[0m\u001b[0mfit\u001b[0m\u001b[1;33m(\u001b[0m\u001b[0mrotten_x\u001b[0m\u001b[1;33m[\u001b[0m\u001b[1;33m:\u001b[0m\u001b[0mtraining_cut\u001b[0m\u001b[1;33m]\u001b[0m\u001b[1;33m,\u001b[0m \u001b[0mrotten_y\u001b[0m\u001b[1;33m[\u001b[0m\u001b[1;33m:\u001b[0m\u001b[0mtraining_cut\u001b[0m\u001b[1;33m]\u001b[0m\u001b[1;33m)\u001b[0m\u001b[1;33m\u001b[0m\u001b[1;33m\u001b[0m\u001b[0m\n",
      "\u001b[1;31mNameError\u001b[0m: name 'rotten_x' is not defined"
     ],
     "output_type": "error"
    }
   ],
   "source": [
    "from sklearn.linear_model import LinearRegression\n",
    "\n",
    "training_cut = int(len(rotten_x) * 0.8)\n",
    "regr = LinearRegression()\n",
    "regr.fit(rotten_x[:training_cut], rotten_y[:training_cut])\n",
    "\n",
    "error = (regr.predict(rotten_x[training_cut:]) - rotten_y[training_cut:])\n",
    "\n",
    "f'mean square error {error}'"
   ]
  }
 ],
 "metadata": {
  "kernelspec": {
   "display_name": "Python 2",
   "language": "python",
   "name": "python2"
  },
  "language_info": {
   "codemirror_mode": {
    "name": "ipython",
    "version": 2
   },
   "file_extension": ".py",
   "mimetype": "text/x-python",
   "name": "python",
   "nbconvert_exporter": "python",
   "pygments_lexer": "ipython2",
   "version": "2.7.6"
  }
 },
 "nbformat": 4,
 "nbformat_minor": 0
}
